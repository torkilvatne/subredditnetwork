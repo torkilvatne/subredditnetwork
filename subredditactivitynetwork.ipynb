{
 "cells": [
  {
   "cell_type": "code",
   "execution_count": 1,
   "metadata": {},
   "outputs": [],
   "source": [
    "import json\n",
    "import requests\n",
    "import praw\n",
    "import numpy\n",
    "\n",
    "reddit = praw.Reddit(client_id='tiBit4kBeuoOTA', \n",
    "                     client_secret='7-HPDa9q92MS0a-AnUVYb72QDzU', \n",
    "                     user_agent='TorkilSamStat', \n",
    "                     username='TorkSamStat', \n",
    "                     password='bbybbyduerinnafor')\n",
    "\n",
    "# STATIC VARIABLES\n",
    "base_url = 'https://api.pushshift.io/reddit/search/comment/'\n",
    "wanted_count_auth = 2\n",
    "wanted_count_sub = 10\n",
    "unwanted_users = [\"[deleted]\", \"AutoModerator\"]\n",
    "unwanted_count = len(unwanted_users)\n",
    "used_authors = []\n",
    "used_subreddits = []\n",
    "offset_limit = 4\n",
    "    \n",
    "# FUNCTIONS\n",
    "def getKeysFromDict(data):\n",
    "    users = []\n",
    "    for obj in data:\n",
    "        if obj['key'] not in unwanted_users:\n",
    "            users.append(obj['key'])\n",
    "    return users\n",
    "\n",
    "def getMostActiveAuthorsInSubReddit(subreddit):\n",
    "    if subreddit in used_subreddits:\n",
    "        return []\n",
    "    else:\n",
    "        url = base_url + '?since=100d&subreddit={}&aggs=author&agg_size={}'.format(subreddit, wanted_count_auth + unwanted_count)\n",
    "        response = requests.get(url).json()\n",
    "        fetched_authors = getKeysFromDict(response['aggs']['author'])\n",
    "        return fetched_authors\n",
    "\n",
    "def getMostActiveSubRedditForAuthor(author):\n",
    "    if author in used_authors:\n",
    "        return []\n",
    "    else:\n",
    "        url = base_url + '?since=100d&author={}&aggs=subreddit&agg_size={}'.format(author, wanted_count_sub)\n",
    "        response = requests.get(url).json()\n",
    "        fetched_subreddits = getKeysFromDict(response['aggs']['subreddit'])\n",
    "        for sub in used_subreddits:\n",
    "                if (sub not in used_subreddits):\n",
    "                    used_subreddits.append(sub)\n",
    "        return fetched_subreddits"
   ]
  },
  {
   "cell_type": "code",
   "execution_count": 2,
   "metadata": {},
   "outputs": [
    {
     "ename": "NameError",
     "evalue": "name 'user2' is not defined",
     "output_type": "error",
     "traceback": [
      "\u001b[0;31m---------------------------------------------------------------------------\u001b[0m",
      "\u001b[0;31mNameError\u001b[0m                                 Traceback (most recent call last)",
      "\u001b[0;32m<ipython-input-2-2b2bb9164fc9>\u001b[0m in \u001b[0;36m<module>\u001b[0;34m\u001b[0m\n\u001b[1;32m     24\u001b[0m \u001b[0;34m\u001b[0m\u001b[0m\n\u001b[1;32m     25\u001b[0m             \u001b[0mused_subreddits\u001b[0m\u001b[0;34m.\u001b[0m\u001b[0mappend\u001b[0m\u001b[0;34m(\u001b[0m\u001b[0msub\u001b[0m\u001b[0;34m)\u001b[0m\u001b[0;34m\u001b[0m\u001b[0;34m\u001b[0m\u001b[0m\n\u001b[0;32m---> 26\u001b[0;31m         \u001b[0mused_authors\u001b[0m\u001b[0;34m.\u001b[0m\u001b[0mappend\u001b[0m\u001b[0;34m(\u001b[0m\u001b[0muser2\u001b[0m\u001b[0;34m)\u001b[0m\u001b[0;34m\u001b[0m\u001b[0;34m\u001b[0m\u001b[0m\n\u001b[0m\u001b[1;32m     27\u001b[0m         \u001b[0;31m# NIVÅ 2 SLUTT\u001b[0m\u001b[0;34m\u001b[0m\u001b[0;34m\u001b[0m\u001b[0;34m\u001b[0m\u001b[0m\n\u001b[1;32m     28\u001b[0m \u001b[0;34m\u001b[0m\u001b[0m\n",
      "\u001b[0;31mNameError\u001b[0m: name 'user2' is not defined"
     ]
    }
   ],
   "source": [
    "relation_array = []\n",
    "users_1 = getMostActiveAuthorsInSubReddit('The_Donald')\n",
    "used_subreddits.append(\"The_Donald\")\n",
    "\n",
    "subcount = {}\n",
    "for user in users_1:\n",
    "    subs = getMostActiveSubRedditForAuthor(user)\n",
    "    for sub in subs:\n",
    "        if sub not in list(subcount.keys()):\n",
    "            subcount[sub] = 1\n",
    "        else:\n",
    "            subcount[sub] += 1\n",
    "        relation_array.append(['The_Donald', sub])\n",
    "        # NIVÅ 2 START\n",
    "        users_2= getMostActiveAuthorsInSubReddit(sub)\n",
    "        for user2 in users_2:\n",
    "            subs2 = getMostActiveSubRedditForAuthor(user)\n",
    "            for sub2 in subs2:\n",
    "                if sub2 not in list(subcount.keys()):\n",
    "                    subcount[sub2] = 1\n",
    "                else:\n",
    "                    subcount[sub2] += 1\n",
    "                relation_array.append([sub, sub2])\n",
    "                \n",
    "                used_subreddits.append(sub)\n",
    "            used_authors.append(user2)\n",
    "        # NIVÅ 2 SLUTT\n",
    "        \n",
    "        \n",
    "        \n",
    "        \n",
    "        \n",
    "        \n",
    "    used_authors.append(user)\n",
    "\n",
    "\n",
    "relation_array"
   ]
  },
  {
   "cell_type": "code",
   "execution_count": null,
   "metadata": {},
   "outputs": [],
   "source": [
    "print(subcount)"
   ]
  },
  {
   "cell_type": "code",
   "execution_count": 7,
   "metadata": {},
   "outputs": [],
   "source": []
  },
  {
   "cell_type": "markdown",
   "metadata": {},
   "source": [
    "### "
   ]
  }
 ],
 "metadata": {
  "kernelspec": {
   "display_name": "Python 3",
   "language": "python",
   "name": "python3"
  },
  "language_info": {
   "codemirror_mode": {
    "name": "ipython",
    "version": 3
   },
   "file_extension": ".py",
   "mimetype": "text/x-python",
   "name": "python",
   "nbconvert_exporter": "python",
   "pygments_lexer": "ipython3",
   "version": "3.7.6"
  }
 },
 "nbformat": 4,
 "nbformat_minor": 4
}

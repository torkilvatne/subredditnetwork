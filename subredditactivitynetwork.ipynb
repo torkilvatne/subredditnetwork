{
 "cells": [
  {
   "cell_type": "code",
   "execution_count": 7,
   "metadata": {},
   "outputs": [],
   "source": [
    "import json\n",
    "import requests\n",
    "import praw\n",
    "\n",
    "reddit = praw.Reddit(client_id='tiBit4kBeuoOTA', \n",
    "                     client_secret='7-HPDa9q92MS0a-AnUVYb72QDzU', \n",
    "                     user_agent='TorkilSamStat', \n",
    "                     username='TorkSamStat', \n",
    "                     password='bbybbyduerinnafor')\n",
    "\n",
    "# STATIC VARIABLES\n",
    "base_url = 'https://api.pushshift.io/reddit/search/comment/'\n",
    "agg_size_authors = 4\n",
    "agg_size_subreddits = agg_size_authors - 2\n",
    "used_authors = []\n",
    "used_subreddits = []\n",
    " \n",
    "# FUNCTIONS\n",
    "def getKeysFromDict(data):\n",
    "    users = []\n",
    "    for obj in data:\n",
    "        if obj['key'] not in ['AutoModerator', '[deleted]']:\n",
    "            users.append(obj['key'])\n",
    "    return users\n",
    "\n",
    "def getMostActiveAuthorsInSubReddit(subreddit):\n",
    "    url = base_url + '?since=100d&subreddit={}&aggs=author&agg_size={}'.format(subreddit, agg_size_authors)\n",
    "    response = requests.get(url).json()\n",
    "    return getKeysFromDict(response['aggs']['author'])\n",
    "\n",
    "def getMostActiveSubRedditForAuthor(author):\n",
    "    url = base_url + '?since=100d&author={}&aggs=subreddit&agg_size={}'.format(author, agg_size_subreddits)\n",
    "    response = requests.get(url).json()\n",
    "    return getKeysFromDict(response['aggs']['subreddit'])"
   ]
  },
  {
   "cell_type": "code",
   "execution_count": 8,
   "metadata": {},
   "outputs": [
    {
     "data": {
      "text/plain": [
       "['mangoroti', 'ENVYNITAZ']"
      ]
     },
     "execution_count": 8,
     "metadata": {},
     "output_type": "execute_result"
    }
   ],
   "source": [
    "# Get users of level 1\n",
    "users_1 = getMostActiveAuthorsInSubReddit('the_donald')\n",
    "users_1"
   ]
  },
  {
   "cell_type": "code",
   "execution_count": 9,
   "metadata": {},
   "outputs": [
    {
     "data": {
      "text/plain": [
       "['The_Donald', 'florida']"
      ]
     },
     "execution_count": 9,
     "metadata": {},
     "output_type": "execute_result"
    }
   ],
   "source": [
    "subreddits_1 = getMostActiveSubRedditForAuthor('mangoroti')\n",
    "subreddits_1"
   ]
  },
  {
   "cell_type": "code",
   "execution_count": null,
   "metadata": {},
   "outputs": [],
   "source": []
  }
 ],
 "metadata": {
  "kernelspec": {
   "display_name": "Python 3",
   "language": "python",
   "name": "python3"
  },
  "language_info": {
   "codemirror_mode": {
    "name": "ipython",
    "version": 3
   },
   "file_extension": ".py",
   "mimetype": "text/x-python",
   "name": "python",
   "nbconvert_exporter": "python",
   "pygments_lexer": "ipython3",
   "version": "3.7.6"
  }
 },
 "nbformat": 4,
 "nbformat_minor": 4
}

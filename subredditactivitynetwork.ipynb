{
 "cells": [
  {
   "cell_type": "code",
   "execution_count": 17,
   "metadata": {},
   "outputs": [],
   "source": [
    "import json\n",
    "import requests\n",
    "import praw\n",
    "\n",
    "reddit = praw.Reddit(client_id='tiBit4kBeuoOTA', \n",
    "                     client_secret='7-HPDa9q92MS0a-AnUVYb72QDzU', \n",
    "                     user_agent='TorkilSamStat', \n",
    "                     username='TorkSamStat', \n",
    "                     password='bbybbyduerinnafor')\n",
    "\n",
    "# STATIC VARIABLES\n",
    "base_url = 'https://api.pushshift.io/reddit/search/comment/'\n",
    "wanted_count_auth = 2\n",
    "wanted_count_sub = 2\n",
    "unwanted_users = [\"[deleted]\", \"AutoModerator\"]\n",
    "unwanted_count = len(unwanted_users)\n",
    "used_authors = []\n",
    "used_subreddits = ['the_donald']\n",
    " \n",
    "# FUNCTIONS\n",
    "def getKeysFromDict(data):\n",
    "    users = []\n",
    "    for obj in data:\n",
    "        if obj['key'] not in ['AutoModerator', '[deleted]']:\n",
    "            users.append(obj['key'])\n",
    "    return users\n",
    "\n",
    "def getMostActiveAuthorsInSubReddit(subreddit):\n",
    "    authors = []\n",
    "    offset = 0\n",
    "    while (len(authors) < wanted_count_auth):\n",
    "        url = base_url + '?since=100d&subreddit={}&aggs=author&agg_size={}'.format(subreddit, wanted_count_auth + unwanted_count + offset)\n",
    "        response = requests.get(url).json()\n",
    "        fetchedAuthors = getKeysFromDict(response['aggs']['author'])\n",
    "        for auth in fetchedAuthors:\n",
    "            if (auth not in used_authors):\n",
    "                authors.append(auth)\n",
    "                used_authors.append(auth)\n",
    "        offset += 1\n",
    "    return authors\n",
    "\n",
    "def getMostActiveSubRedditForAuthor(author):\n",
    "    subreddits = []\n",
    "    offset = 0\n",
    "    while (len(subreddits) < wanted_count_sub):\n",
    "        url = base_url + '?since=100d&author={}&aggs=subreddit&agg_size={}'.format(author, wanted_count_sub + offset)\n",
    "        response = requests.get(url).json()\n",
    "        fetchedSubreddits = getKeysFromDict(response['aggs']['subreddit'])\n",
    "        for sub in fetchedSubreddits:\n",
    "            if (sub not in used_subreddits):\n",
    "                subreddits.append(sub)\n",
    "                used_subreddits.append(sub)\n",
    "        offset += 1\n",
    "    return subreddits"
   ]
  },
  {
   "cell_type": "code",
   "execution_count": 18,
   "metadata": {},
   "outputs": [
    {
     "data": {
      "text/plain": [
       "['mangoroti', 'ENVYNITAZ']"
      ]
     },
     "execution_count": 18,
     "metadata": {},
     "output_type": "execute_result"
    }
   ],
   "source": [
    "# Get users of level 1\n",
    "users_1 = getMostActiveAuthorsInSubReddit('the_donald')\n",
    "users_1"
   ]
  },
  {
   "cell_type": "code",
   "execution_count": 19,
   "metadata": {},
   "outputs": [
    {
     "data": {
      "text/plain": [
       "['The_Donald', 'florida']"
      ]
     },
     "execution_count": 19,
     "metadata": {},
     "output_type": "execute_result"
    }
   ],
   "source": [
    "subs_1 = getMostActiveSubRedditForAuthor('mangoroti')\n",
    "subs_1"
   ]
  },
  {
   "cell_type": "code",
   "execution_count": null,
   "metadata": {},
   "outputs": [],
   "source": []
  }
 ],
 "metadata": {
  "kernelspec": {
   "display_name": "Python 3",
   "language": "python",
   "name": "python3"
  },
  "language_info": {
   "codemirror_mode": {
    "name": "ipython",
    "version": 3
   },
   "file_extension": ".py",
   "mimetype": "text/x-python",
   "name": "python",
   "nbconvert_exporter": "python",
   "pygments_lexer": "ipython3",
   "version": "3.7.6"
  }
 },
 "nbformat": 4,
 "nbformat_minor": 4
}
